{
 "cells": [
  {
   "cell_type": "markdown",
   "id": "f5c4efbb",
   "metadata": {
    "direction": "rtl"
   },
   "source": [
    "## Quick Sort\n",
    "یک الگوریتم divide and conquer است. در این الگوریتم یک عنصر به عنوان محور انتخاب شده و آرایه داده شده به آن را در اطراف عنصر انتخاب شده به عنوان محور پارتیشن بندی می کندهدف از پارتیشن ها به این است که با توجه به کل آرایه و عنصر 'x' آرایه که به عنوان محور انتخاب کرده ایم، x را در موقعیت صحیح خود در آرایه قرار می دهید و همه عناصر کوچکتر از x را قبل از x و همه عناصر بزرگتر از x را بعد از x قرارمی دهد. همه اینها در زمان خطی انجام می شود. روش های مختلفی از QuickSort برای انتخاب یک عنصر به عنوان محور وجود دارد : 1. همیشه اولین عنصر را به عنوان محور انتخاب کنید، 2. همیشه آخرین عنصر را به عنوان محور انتخاب کنید، 3. یک عنصر تصادفی را به عنوان محور انتخاب کنید، 4. میانه را به عنوان محور انتخاب کنید. در ادامه این الگوریتم با استفاده از Numpy پیاده سازی شده است. قابل ذکر است که در Numpy عملیات sort به صورت پیشفرض به صورت Quicksort انجام می شود و نیازی به تغییر در تنظیم np.sort نمی باشد."
   ]
  },
  {
   "cell_type": "code",
   "execution_count": 1,
   "id": "804cb62c",
   "metadata": {},
   "outputs": [
    {
     "name": "stdout",
     "output_type": "stream",
     "text": [
      "[[ 6 73 26 47]\n",
      " [63 47 45 53]\n",
      " [50 34 20 65]]\n",
      "**********\n",
      "[[ 6 26 47 73]\n",
      " [45 47 53 63]\n",
      " [20 34 50 65]]\n",
      "**********\n",
      "[ 6 20 26 34 45 47 47 50 53 63 65 73]\n",
      "**********\n",
      "[[ 6 34 20 47]\n",
      " [50 47 26 53]\n",
      " [63 73 45 65]]\n"
     ]
    }
   ],
   "source": [
    "import numpy as np\n",
    "i = np.random.randint(0,100,(3,4))\n",
    "print (i)\n",
    "j = np.sort(i)\n",
    "k = np.sort(i,axis=None)\n",
    "h = np.sort(i,axis=0)\n",
    "print ('**********')\n",
    "print (j)\n",
    "print ('**********')\n",
    "print (k)\n",
    "print ('**********')\n",
    "print (h)\n"
   ]
  },
  {
   "cell_type": "markdown",
   "id": "f33760c0",
   "metadata": {
    "direction": "rtl"
   },
   "source": [
    "## Heap Sort\n",
    "یک الگوریتم مرتب سازی مبتنی بر مقایسه می باشد که بر اساس ساختار داده باینری هیپ است. این الگوریتم شبیه به مرتب سازی انتخاب می باشد که در ابتدا عنصر مینیمم در آرایه را پیدا کرده و در ابتدای آرایه قرار می دهد. سپس این عملیات به همین منوال ادامه پیدا می کند تا تمام عناصر مرتب سازی می گردند. در ادامه این الگوریتم با استفاده از Numpy پیاده سازی شده است. "
   ]
  },
  {
   "cell_type": "code",
   "execution_count": 2,
   "id": "64548458",
   "metadata": {},
   "outputs": [
    {
     "name": "stdout",
     "output_type": "stream",
     "text": [
      "[[48 52  7 20]\n",
      " [67 60 19 41]\n",
      " [ 1 44 79 64]]\n",
      "**********\n",
      "[[ 7 20 48 52]\n",
      " [19 41 60 67]\n",
      " [ 1 44 64 79]]\n",
      "**********\n",
      "[ 1  7 19 20 41 44 48 52 60 64 67 79]\n",
      "**********\n",
      "[[ 1 44  7 20]\n",
      " [48 52 19 41]\n",
      " [67 60 79 64]]\n"
     ]
    }
   ],
   "source": [
    "import numpy as np\n",
    "i = np.random.randint(0,100,(3,4))\n",
    "print (i)\n",
    "j = np.sort(i,kind='heapsort')\n",
    "k = np.sort(i,axis=None,kind='heapsort')\n",
    "h = np.sort(i,axis=0,kind='heapsort')\n",
    "print ('**********')\n",
    "print (j)\n",
    "print ('**********')\n",
    "print (k)\n",
    "print ('**********')\n",
    "print (h)\n"
   ]
  },
  {
   "cell_type": "markdown",
   "id": "cb1a2916",
   "metadata": {
    "direction": "rtl"
   },
   "source": [
    "## Merge Sort\n",
    "یک الگوریتم divide and conquer است. این الگوریتم شامل تقسیم یک مسئله به چند مسئله فرعی است. الگوریتم به این صورت عمل میکند که آرایه داده شده را به دو زیر آرایه تقریبا مساوی تقسیم می کند. سپس مجددا خود را فراخوانی میکند تا زیر آرایه های جدید به دو قسمت تقریبا مساوی تقسیم گردد. این زیر آرایه های فرعی بارها و بارها به دو نیم تقسیم می شوند تا اینکه در نهایت به زیر آرایه هایی می رسیم که هر کدام فقط یک عنصر دارند. پس از مرتب سازی این زیر آرایه ها ما جفت های مرتب شده از زیر آرایه ها را در یک آرایه مرتب شده نهایی ادغام می کنیم. در ادامه این الگوریتم با استفاده از Numpy پیاده سازی شده است. "
   ]
  },
  {
   "cell_type": "code",
   "execution_count": 3,
   "id": "fab1ca3b",
   "metadata": {},
   "outputs": [
    {
     "name": "stdout",
     "output_type": "stream",
     "text": [
      "[[ 1 40 87 37]\n",
      " [95 44 66 41]\n",
      " [60 47 63 77]]\n",
      "**********\n",
      "[[ 1 37 40 87]\n",
      " [41 44 66 95]\n",
      " [47 60 63 77]]\n",
      "**********\n",
      "[ 1 37 40 41 44 47 60 63 66 77 87 95]\n",
      "**********\n",
      "[[ 1 40 63 37]\n",
      " [60 44 66 41]\n",
      " [95 47 87 77]]\n"
     ]
    }
   ],
   "source": [
    "import numpy as np\n",
    "i = np.random.randint(0,100,(3,4))\n",
    "print (i)\n",
    "j = np.sort(i,kind='mergesort')\n",
    "k = np.sort(i,axis=None,kind='mergesort')\n",
    "h = np.sort(i,axis=0,kind='mergesort')\n",
    "print ('**********')\n",
    "print (j)\n",
    "print ('**********')\n",
    "print (k)\n",
    "print ('**********')\n",
    "print (h)"
   ]
  }
 ],
 "metadata": {
  "direction": "ltr",
  "kernelspec": {
   "display_name": "Python 3 (ipykernel)",
   "language": "python",
   "name": "python3"
  },
  "language_info": {
   "codemirror_mode": {
    "name": "ipython",
    "version": 3
   },
   "file_extension": ".py",
   "mimetype": "text/x-python",
   "name": "python",
   "nbconvert_exporter": "python",
   "pygments_lexer": "ipython3",
   "version": "3.10.9"
  }
 },
 "nbformat": 4,
 "nbformat_minor": 5
}
