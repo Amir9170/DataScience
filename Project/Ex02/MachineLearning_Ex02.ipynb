{
 "cells": [
  {
   "cell_type": "code",
   "execution_count": 1,
   "metadata": {},
   "outputs": [
    {
     "name": "stdout",
     "output_type": "stream",
     "text": [
      "Please Enter a Number : 5\n",
      "Random Numbers are : [36 32 72 83 30]\n",
      "The Biggest Number is : 83\n",
      "WIN\n"
     ]
    }
   ],
   "source": [
    "from numpy import random\n",
    "\n",
    "i = int(input('Please Enter a Number : '))\n",
    "x = random.randint(100, size=(i))\n",
    "biggest_number = x.max()\n",
    "print ('Random Numbers are :', x)\n",
    "print ('The Biggest Number is :', biggest_number)\n",
    "if biggest_number > 70 :\n",
    "    print ('WIN')\n",
    "else:\n",
    "    print ('FAIL')"
   ]
  }
 ],
 "metadata": {
  "kernelspec": {
   "display_name": "Python 3 (ipykernel)",
   "language": "python",
   "name": "python3"
  },
  "language_info": {
   "codemirror_mode": {
    "name": "ipython",
    "version": 3
   },
   "file_extension": ".py",
   "mimetype": "text/x-python",
   "name": "python",
   "nbconvert_exporter": "python",
   "pygments_lexer": "ipython3",
   "version": "3.10.9"
  }
 },
 "nbformat": 4,
 "nbformat_minor": 4
}
